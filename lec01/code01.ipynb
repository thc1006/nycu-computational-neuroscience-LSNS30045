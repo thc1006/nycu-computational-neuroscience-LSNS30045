{
 "cells": [
  {
   "cell_type": "markdown",
   "id": "47bb1666-04ca-4724-a3e4-1ec95cedc802",
   "metadata": {},
   "source": [
    "<span style=\"color:#44f;font-weight:bold;\">Codes for CNS2025: Lecture 1</span>"
   ]
  },
  {
   "cell_type": "markdown",
   "id": "9ff44760-21ce-4e14-968f-823168256afc",
   "metadata": {},
   "source": [
    "# Quick Start Programming in Python"
   ]
  },
  {
   "cell_type": "markdown",
   "id": "5fbc26be-f630-4160-b3ec-2e990504baff",
   "metadata": {},
   "source": [
    "## The “Hello World!” program\n",
    "This is a very common first example for introducing a programming language. By printing out a simple line of text, this demonstrate what makes up a complete program and console output functionality.\n",
    "\n",
    "Use `Shift-Enter` to execute the follow cell."
   ]
  },
  {
   "cell_type": "code",
   "execution_count": 1,
   "id": "80e0802f-f250-4c3d-a1b4-82c479847d3d",
   "metadata": {},
   "outputs": [
    {
     "name": "stdout",
     "output_type": "stream",
     "text": [
      "Hello World!\n"
     ]
    }
   ],
   "source": [
    "print('Hello World!')"
   ]
  },
  {
   "cell_type": "markdown",
   "id": "1037c69e-773f-4a3d-aa0f-06f1c8dc8031",
   "metadata": {},
   "source": [
    "## Python the Calculator\n",
    "\n",
    "Arithmetic operators:\n",
    "\n",
    "| Symbol | Operation |\n",
    "| :-: | :-: |\n",
    "| `+` | Addition |\n",
    "| `-` | Subtraction | \t\n",
    "| `*` | Multiplication |\n",
    "| `/` | Division |\t\n",
    "| `%` | Modulus (remainder)|\n",
    "| `**` | Exponentiation |\n",
    "| `//` | Floor division (quotient)|\n",
    "\n",
    "See, e.g. [w3schools](https://www.w3schools.com/python/python_operators.asp) for “Assignment”, “Comparison”, “Logical”, “Identity”, “Membership”, and “Bitwise” operators. "
   ]
  },
  {
   "cell_type": "code",
   "execution_count": 2,
   "id": "dc311c1a-2ae7-48ff-b401-af200012a395",
   "metadata": {},
   "outputs": [
    {
     "data": {
      "text/plain": [
       "56877"
      ]
     },
     "execution_count": 2,
     "metadata": {},
     "output_type": "execute_result"
    }
   ],
   "source": [
    "123*456+789 # Expression (<- This is how you comment the code.)"
   ]
  },
  {
   "cell_type": "markdown",
   "id": "86821509-de3f-4f4e-a072-7cb117897b1e",
   "metadata": {},
   "source": [
    "The numbers above are called literals, in contrast with the variables below."
   ]
  },
  {
   "cell_type": "code",
   "execution_count": 3,
   "id": "2be13820-a240-494b-9810-81773a4383cb",
   "metadata": {},
   "outputs": [
    {
     "name": "stdout",
     "output_type": "stream",
     "text": [
      "a = *****10*****, b = *****Yakimaa = 10, b = Yakima\n"
     ]
    }
   ],
   "source": [
    "a = 10             # Variable assigned with integer\n",
    "b = 'Yakima'       # ... assigned with a string\n",
    "print('a = ',a,', b = ',b,sep='*****',end='') # function call with positional and named arguments\n",
    "print('a = ',a,', b = ',b,sep='')"
   ]
  },
  {
   "cell_type": "markdown",
   "id": "ad28aa75-9024-4e3a-8855-368ba98db242",
   "metadata": {},
   "source": [
    "## Error messages\n",
    "Reading error messages is important for learning a programming language. <span style=\"color:red\">The most important information is usually at the bottom of the error output.</span>"
   ]
  },
  {
   "cell_type": "code",
   "execution_count": 4,
   "id": "f66ece2b-21d2-4b52-9169-057acb1ae91b",
   "metadata": {},
   "outputs": [
    {
     "ename": "TypeError",
     "evalue": "unsupported operand type(s) for +: 'int' and 'str'",
     "output_type": "error",
     "traceback": [
      "\u001b[31m---------------------------------------------------------------------------\u001b[39m",
      "\u001b[31mTypeError\u001b[39m                                 Traceback (most recent call last)",
      "\u001b[36mCell\u001b[39m\u001b[36m \u001b[39m\u001b[32mIn[4]\u001b[39m\u001b[32m, line 1\u001b[39m\n\u001b[32m----> \u001b[39m\u001b[32m1\u001b[39m a+b\n",
      "\u001b[31mTypeError\u001b[39m: unsupported operand type(s) for +: 'int' and 'str'"
     ]
    }
   ],
   "source": [
    "a+b"
   ]
  },
  {
   "cell_type": "markdown",
   "id": "d57b6e7a-f278-444a-ba55-17698955bcf6",
   "metadata": {},
   "source": [
    "## Unitary and ternary operators"
   ]
  },
  {
   "cell_type": "code",
   "execution_count": 5,
   "id": "5154ac12-dd50-4e50-8e4a-027698aa1f60",
   "metadata": {},
   "outputs": [
    {
     "name": "stdout",
     "output_type": "stream",
     "text": [
      "False\n",
      "-100 99\n"
     ]
    }
   ],
   "source": [
    "c = 100\n",
    "b = -c    # numerical negation\n",
    "a = b if b>0 else -b # ternary operator\n",
    "a = not a # logical negation\n",
    "print(a)\n",
    "print(b,~b) # bitwise negation"
   ]
  },
  {
   "cell_type": "markdown",
   "id": "d4d8ef0a-7ad0-415d-a0b4-5cde2ef7e3ef",
   "metadata": {},
   "source": [
    "## Strings and formatting\n",
    "See [python.org](https://docs.python.org/3/tutorial/inputoutput.html#fancier-output-formatting)."
   ]
  },
  {
   "cell_type": "code",
   "execution_count": 6,
   "id": "3ee8ac23-dd13-46e8-adde-5fd59d8d9160",
   "metadata": {},
   "outputs": [
    {
     "name": "stdout",
     "output_type": "stream",
     "text": [
      "Overo\tDoggie\n",
      "Hello\\tDoggie\\rOver\n",
      "1.23456789 is the value of 'a', while b='abc'.\n",
      "'a' is approximately  1.2.\n"
     ]
    }
   ],
   "source": [
    "print('Hello\\tDoggie\\rOver')  # special characters\n",
    "print(r'Hello\\tDoggie\\rOver') # raw string\n",
    "a,b = 1.23456789,'abc'\n",
    "print(f\"{a} is the value of 'a', while {b=}.\") # f-string\n",
    "print(f'\\'a\\' is approximately {a:4.2g}.')"
   ]
  },
  {
   "cell_type": "code",
   "execution_count": 7,
   "id": "95cf6481-0d05-4a83-8851-619606be066d",
   "metadata": {},
   "outputs": [
    {
     "name": "stdout",
     "output_type": "stream",
     "text": [
      "[This is a\n",
      "multiple-line\n",
      "string.]\n"
     ]
    }
   ],
   "source": [
    "# triple quotes string can extend multiple lines\n",
    "mstr = \"\"\"This is a\n",
    "multiple-line\n",
    "string.\"\"\"\n",
    "print('[',mstr,']',sep='')"
   ]
  },
  {
   "cell_type": "markdown",
   "id": "c3eb9386-493e-43b9-9e6c-f2d8ffd1e8f0",
   "metadata": {},
   "source": [
    "## Data structures"
   ]
  },
  {
   "cell_type": "code",
   "execution_count": 8,
   "id": "a70f90c9-02f4-4294-bec0-ea42ffbb4d15",
   "metadata": {},
   "outputs": [],
   "source": [
    "# List\n",
    "mlst = [1,2,'three',4,False]\n",
    "# Tuple\n",
    "pos = ('Alex',25,170)\n",
    "# Set\n",
    "grp = {6,5,4,'Three','Two','One'}\n",
    "# Dictionary\n",
    "dct = {'x':12,'ww':32,10:'aa',True:[1,2,34]}"
   ]
  },
  {
   "cell_type": "markdown",
   "id": "0885e62f-95f9-4967-b7f8-4f124658285f",
   "metadata": {},
   "source": [
    "## Iterables\n",
    "Iterables are types of collective items that can be retrieved one by one. These include lists and things that can be converted into lists. Notable abstract objects are `range`, `map`, `zip`, etc."
   ]
  },
  {
   "cell_type": "code",
   "execution_count": 9,
   "id": "6eada544-d16d-4a0b-8ce3-12bdf2a22d04",
   "metadata": {},
   "outputs": [
    {
     "name": "stdout",
     "output_type": "stream",
     "text": [
      "range(0, 5) [0, 1, 2, 3, 4]\n"
     ]
    }
   ],
   "source": [
    "# Range\n",
    "r = range(5)\n",
    "print(r,list(r))"
   ]
  },
  {
   "cell_type": "markdown",
   "id": "1e746aaa-e984-4a12-96a1-5bb1fe9a9ab2",
   "metadata": {},
   "source": [
    "## Flow controls: conditionals, loops, and functions"
   ]
  },
  {
   "cell_type": "code",
   "execution_count": 10,
   "id": "fbbe3b24-aca6-41c8-9635-67757d9425ff",
   "metadata": {},
   "outputs": [],
   "source": [
    "# Function does prescribed things and may give back a value\n",
    "def tell_sign(n):\n",
    "    if n>0:             # Conditional\n",
    "        s = \"positive\"\n",
    "    elif n<0:           # Continuing conditional\n",
    "        s = \"negative\"\n",
    "    else:\n",
    "        s = \"zero\"\n",
    "    return s"
   ]
  },
  {
   "cell_type": "code",
   "execution_count": 11,
   "id": "77307651-5048-4017-a69d-7adaa716e338",
   "metadata": {},
   "outputs": [
    {
     "name": "stdout",
     "output_type": "stream",
     "text": [
      "negative\n"
     ]
    }
   ],
   "source": [
    "a = -10\n",
    "print(tell_sign(a))"
   ]
  },
  {
   "cell_type": "code",
   "execution_count": 12,
   "id": "c00cf9ee-dc60-422c-bcf3-0c4e46e0a2d0",
   "metadata": {},
   "outputs": [
    {
     "name": "stdout",
     "output_type": "stream",
     "text": [
      "john 4\n",
      "erica 5\n",
      "alexandra 9\n"
     ]
    }
   ],
   "source": [
    "# Iteration loop\n",
    "for a in ['john','erica','tim','alexandra','bobby']:\n",
    "    if len(a)<4: continue # Skipping loop\n",
    "    print(a,len(a))\n",
    "    if len(a)>5: break    # Terminating loop"
   ]
  },
  {
   "cell_type": "code",
   "execution_count": 13,
   "id": "16f5314c-c2b4-41b6-8f50-a29ccb25d380",
   "metadata": {},
   "outputs": [
    {
     "name": "stdout",
     "output_type": "stream",
     "text": [
      "The total is 1683.\n"
     ]
    }
   ],
   "source": [
    "i,sm = 0,0\n",
    "while i<100:          # Conditional loop\n",
    "    sm += i\n",
    "    i = i+3\n",
    "print(f'The total is {sm}.')"
   ]
  },
  {
   "cell_type": "markdown",
   "id": "b653367e-0aaf-4490-bde5-a365683ff310",
   "metadata": {},
   "source": [
    "# Some basics of NumPy and Matplotlib\n",
    "Following lines are the boiler plate for using the two libraries"
   ]
  },
  {
   "cell_type": "code",
   "execution_count": 14,
   "id": "262ae9e9-7d99-4bdf-a436-d9078b36d333",
   "metadata": {},
   "outputs": [],
   "source": [
    "import numpy as np\n",
    "import matplotlib.pyplot as plt"
   ]
  },
  {
   "cell_type": "markdown",
   "id": "081dadee-77a6-47c1-ab0a-efc050c395e5",
   "metadata": {},
   "source": [
    "## Array\n",
    "`numpy.array` can be viewed as a more powerful version of `list`. It's data of one uniform type that is arranged in a multi-dimensional grid structure."
   ]
  },
  {
   "cell_type": "code",
   "execution_count": 15,
   "id": "4597416f-5aa1-46b5-89b4-0a47f32b2438",
   "metadata": {},
   "outputs": [
    {
     "name": "stdout",
     "output_type": "stream",
     "text": [
      "(2, 3)\n",
      "[1 2 3 4 5 6]\n"
     ]
    },
    {
     "data": {
      "text/plain": [
       "array([[1, 2],\n",
       "       [3, 4],\n",
       "       [5, 6]])"
      ]
     },
     "execution_count": 15,
     "metadata": {},
     "output_type": "execute_result"
    }
   ],
   "source": [
    "a = np.array([[1,2,3],[4,5,6]])\n",
    "print(a.shape)\n",
    "print(a.flatten())\n",
    "a.reshape(3,-1)"
   ]
  },
  {
   "cell_type": "code",
   "execution_count": 16,
   "id": "12f0b874-c613-4df7-aa0a-8c6042f5cb5e",
   "metadata": {},
   "outputs": [
    {
     "name": "stdout",
     "output_type": "stream",
     "text": [
      "[0.   0.25 0.5  0.75 1.   1.25 1.5  1.75 2.   2.25 2.5  2.75 3.   3.25\n",
      " 3.5  3.75 4.   4.25 4.5  4.75 5.   5.25 5.5  5.75 6.   6.25 6.5  6.75\n",
      " 7.   7.25 7.5  7.75 8.   8.25 8.5  8.75 9.   9.25 9.5  9.75]\n",
      "[ 0.  1.  2.  3.  4.  5.  6.  7.  8.  9. 10. 11. 12. 13. 14. 15. 16. 17.\n",
      " 18. 19. 20. 21. 22. 23. 24. 25. 26. 27. 28. 29. 30. 31. 32. 33. 34. 35.\n",
      " 36. 37. 38. 39.]\n"
     ]
    }
   ],
   "source": [
    "x = np.arange(0,10,0.25)\n",
    "print(x,x*4,sep='\\n')"
   ]
  },
  {
   "cell_type": "code",
   "execution_count": 17,
   "id": "98096bf0-123d-4bec-a28d-0c2acd106685",
   "metadata": {},
   "outputs": [
    {
     "name": "stdout",
     "output_type": "stream",
     "text": [
      "a:\n",
      " [[1 2]\n",
      " [3 4]]\n",
      "b:\n",
      " [[5 6]\n",
      " [7 8]]\n",
      "a*b:\n",
      " [[ 5 12]\n",
      " [21 32]]\n",
      "a+cos(b):\n",
      " [[1.28366219 2.96017029]\n",
      " [3.75390225 3.85449997]]\n",
      "a.b:\n",
      " [[19 22]\n",
      " [43 50]]\n"
     ]
    }
   ],
   "source": [
    "print('a:\\n',a:=np.array([[1,2],[3,4]]))\n",
    "print('b:\\n',b:=np.array([[5,6],[7,8]]))\n",
    "print('a*b:\\n',a*b)              # Element-wise multiplication\n",
    "print('a+cos(b):\\n',a+np.cos(b)) # Element-wise operations\n",
    "print('a.b:\\n',a@b)              # Matrix product"
   ]
  },
  {
   "cell_type": "markdown",
   "id": "eb996f67-1e1d-4595-ac24-5cbe500b3ae8",
   "metadata": {},
   "source": [
    "## Memory layout and `reshape`"
   ]
  },
  {
   "cell_type": "code",
   "execution_count": 18,
   "id": "8601fdab-1c67-4a77-8d59-5f22834b21d1",
   "metadata": {},
   "outputs": [
    {
     "name": "stdout",
     "output_type": "stream",
     "text": [
      "(3, 2, 4)\n",
      "[ 1  2  3  4  5  6  7  8 11 12 13 14 15 16 17 18 21 22 23 24 25 26 27 28]\n",
      "[ 1  2  3  4  5  6  7  8 11 12 13 14 15 16 17 18 21 22 23 24 25 26 27 28]\n"
     ]
    }
   ],
   "source": [
    "a = np.array([[\n",
    "    [1,2,3,4],\n",
    "    [5,6,7,8]\n",
    "],[\n",
    "    [11,12,13,14],\n",
    "    [15,16,17,18]\n",
    "],[\n",
    "    [21,22,23,24],\n",
    "    [25,26,27,28]\n",
    "]])\n",
    "print(a.shape)\n",
    "print(a.reshape(-1))\n",
    "print(a.flatten())"
   ]
  },
  {
   "cell_type": "code",
   "execution_count": 19,
   "id": "f635d36e-5e16-4446-872a-807b1cccaef9",
   "metadata": {},
   "outputs": [
    {
     "data": {
      "text/plain": [
       "np.int64(27)"
      ]
     },
     "execution_count": 19,
     "metadata": {},
     "output_type": "execute_result"
    }
   ],
   "source": [
    "a[2,1,2]"
   ]
  },
  {
   "cell_type": "markdown",
   "id": "516ed9ca-01d1-4cad-9cb7-1cac75a6b15d",
   "metadata": {},
   "source": [
    "## Plotting data and functions"
   ]
  },
  {
   "cell_type": "code",
   "execution_count": 20,
   "id": "8d7fe5d2-0138-415e-b1d6-86b01a9c8bd2",
   "metadata": {},
   "outputs": [],
   "source": [
    "plt.rcParams[\"font.family\"] = \"serif\"\n",
    "plt.rcParams[\"mathtext.fontset\"] = \"stix\""
   ]
  },
  {
   "cell_type": "code",
   "execution_count": 21,
   "id": "d974903d-300a-43c0-bd38-8df8b5e0f866",
   "metadata": {},
   "outputs": [
    {
     "data": {
      "image/png": "[encoded data removed]",
      "text/plain": [
       "<Figure size 640x480 with 1 Axes>"
      ]
     },
     "metadata": {},
     "output_type": "display_data"
    }
   ],
   "source": [
    "plt.figure()\n",
    "plt.plot(x,x**2,label='$x^2$')\n",
    "plt.plot(x,100*np.sin(x)**2,'o--',label=r'$100\\sin^2x$')\n",
    "plt.xlabel('$x$ axis')\n",
    "plt.ylabel('$y$ axis')\n",
    "plt.legend()\n",
    "plt.show() "
   ]
  },
  {
   "cell_type": "markdown",
   "id": "b0138a84-cfbb-4140-8c44-69473d50206f",
   "metadata": {},
   "source": [
    "## Splicing and indexing"
   ]
  },
  {
   "cell_type": "code",
   "execution_count": 22,
   "id": "1b4805df-56d7-4f4a-b067-46fa947f5da9",
   "metadata": {},
   "outputs": [
    {
     "name": "stdout",
     "output_type": "stream",
     "text": [
      "[ 0  1  2  3  4  5  6  7  8  9 10 11 12 13 14 15]\n",
      "[ 1  3  5  7  9 11 13 15]\n",
      "[15 14 13 12 11 10  9]\n"
     ]
    }
   ],
   "source": [
    "a = np.arange(16)\n",
    "print(a)\n",
    "print(a[1::2]) # [Start:End:Increment]\n",
    "print(a[:8:-1])"
   ]
  },
  {
   "cell_type": "code",
   "execution_count": 23,
   "id": "b0db9a0e-feac-4e93-9f4e-997d53032b3f",
   "metadata": {},
   "outputs": [
    {
     "data": {
      "text/plain": [
       "array([3, 4, 5, 6, 7])"
      ]
     },
     "execution_count": 23,
     "metadata": {},
     "output_type": "execute_result"
    }
   ],
   "source": [
    "a[3:8]"
   ]
  },
  {
   "cell_type": "code",
   "execution_count": 24,
   "id": "96dbbc86-ed1f-4d49-8d47-079f1c370e41",
   "metadata": {},
   "outputs": [],
   "source": [
    "w = np.where(a%3==1)"
   ]
  },
  {
   "cell_type": "code",
   "execution_count": 25,
   "id": "a48e14a3-a19a-4f71-b98d-08c147f94ad6",
   "metadata": {},
   "outputs": [
    {
     "name": "stdout",
     "output_type": "stream",
     "text": [
      "[False  True False False  True False False  True False False  True False\n",
      " False  True False False]\n",
      "(array([ 1,  4,  7, 10, 13]),)\n",
      "[ 1  4  7 10 13]\n",
      "[ 1  4  7 10 13]\n"
     ]
    }
   ],
   "source": [
    "print(a%3==1)\n",
    "print(w:=np.where(a%3==1)) # ':=' is the \"Walrus operator\"\n",
    "print(a[a%3==1])\n",
    "print(a[w])"
   ]
  },
  {
   "cell_type": "markdown",
   "id": "13147582-442d-42d2-8a27-3b666c1ca215",
   "metadata": {},
   "source": [
    "## Getting and saving data from and to files"
   ]
  },
  {
   "cell_type": "code",
   "execution_count": 26,
   "id": "7202f3fc-7018-4ff7-b03a-eed7f83c5a7c",
   "metadata": {},
   "outputs": [],
   "source": [
    "# Create a text data file using Python native file I/O\n",
    "with open('data01.txt','w') as f:\n",
    "    position = 0\n",
    "    np.random.seed(123) # Seeding random number generator\n",
    "    for i in range(1000):\n",
    "        time = i/512\n",
    "        position += np.random.normal() # x moves by a normally distributed random amount\n",
    "        f.write(f'{time:g} {position:g}\\n')"
   ]
  },
  {
   "cell_type": "code",
   "execution_count": 27,
   "id": "641551d5-a993-4952-85e9-e6803e39d660",
   "metadata": {},
   "outputs": [
    {
     "name": "stdout",
     "output_type": "stream",
     "text": [
      "(1000, 2)\n"
     ]
    }
   ],
   "source": [
    "# Load the text file data with NumPy\n",
    "a = np.loadtxt('data01.txt')\n",
    "print(a.shape)"
   ]
  },
  {
   "cell_type": "code",
   "execution_count": 28,
   "id": "9649c65d-3ce1-4021-a044-b1ac4f5e00dd",
   "metadata": {},
   "outputs": [],
   "source": [
    "t,x = a.T # Assigning rows of an array to multiple variables"
   ]
  },
  {
   "cell_type": "code",
   "execution_count": 29,
   "id": "72e09f28-e244-45c9-adae-f5e9bdc4b8ca",
   "metadata": {},
   "outputs": [
    {
     "data": {
      "text/plain": [
       "'-39.5641360807918'"
      ]
     },
     "execution_count": 29,
     "metadata": {},
     "output_type": "execute_result"
    }
   ],
   "source": [
    "f'{position}'"
   ]
  },
  {
   "cell_type": "code",
   "execution_count": 30,
   "id": "650392e4-c9ec-4ba0-8010-acd595aa2ccc",
   "metadata": {},
   "outputs": [],
   "source": [
    "position = 0\n",
    "np.random.seed(123)\n",
    "t1 = np.arange(1000)/512\n",
    "x1 = np.array([position := position+np.random.normal() for i in t1])"
   ]
  },
  {
   "cell_type": "code",
   "execution_count": 31,
   "id": "a54fa15f-cda8-429e-8423-5bd0380c1d14",
   "metadata": {},
   "outputs": [
    {
     "data": {
      "text/plain": [
       "np.False_"
      ]
     },
     "execution_count": 31,
     "metadata": {},
     "output_type": "execute_result"
    }
   ],
   "source": [
    "np.any(x==x1)"
   ]
  },
  {
   "cell_type": "code",
   "execution_count": 32,
   "id": "5de0985c-1d94-4b6a-aa82-0797d4e115e9",
   "metadata": {},
   "outputs": [
    {
     "data": {
      "text/plain": [
       "True"
      ]
     },
     "execution_count": 32,
     "metadata": {},
     "output_type": "execute_result"
    }
   ],
   "source": [
    "np.allclose(x,x1)"
   ]
  },
  {
   "cell_type": "code",
   "execution_count": 33,
   "id": "94bea1e3-de63-44cc-b101-75a058e601da",
   "metadata": {},
   "outputs": [
    {
     "data": {
      "text/plain": [
       "np.False_"
      ]
     },
     "execution_count": 33,
     "metadata": {},
     "output_type": "execute_result"
    }
   ],
   "source": [
    "np.all(t==t1)"
   ]
  },
  {
   "cell_type": "code",
   "execution_count": 34,
   "id": "782d5158-3c43-44b8-a8cf-162af8802398",
   "metadata": {},
   "outputs": [
    {
     "data": {
      "text/plain": [
       "True"
      ]
     },
     "execution_count": 34,
     "metadata": {},
     "output_type": "execute_result"
    }
   ],
   "source": [
    "np.allclose(t,t1)"
   ]
  },
  {
   "cell_type": "code",
   "execution_count": 35,
   "id": "7b64b978-a404-40ce-9052-edfa18a0e19b",
   "metadata": {},
   "outputs": [],
   "source": [
    "np.savez('data01',t=t1,x=x1) # Saving to a binary file"
   ]
  },
  {
   "cell_type": "code",
   "execution_count": 36,
   "id": "06c970ca-a895-42b1-b751-6bb6a0226fc9",
   "metadata": {},
   "outputs": [
    {
     "name": "stdout",
     "output_type": "stream",
     "text": [
      "-rw-rw-r-- 1 cjj cjj 16490 Sep  3 03:15 data01.npz\n",
      "-rw-rw-r-- 1 cjj cjj 17159 Sep  3 03:15 data01.txt\n"
     ]
    }
   ],
   "source": [
    "ls -l data01.*"
   ]
  },
  {
   "cell_type": "code",
   "execution_count": 37,
   "id": "938169f5-263e-47d9-863b-cd1c87705f8a",
   "metadata": {},
   "outputs": [
    {
     "name": "stdout",
     "output_type": "stream",
     "text": [
      "['t', 'x']\n"
     ]
    }
   ],
   "source": [
    "with np.load('data01.npz',allow_pickle=True) as f:\n",
    "    print(list(f.keys())) # Get a list of available arrays\n",
    "    tt = f['t']\n",
    "    xx = f['x']"
   ]
  },
  {
   "cell_type": "code",
   "execution_count": 38,
   "id": "4a1b80c1-8e6b-459b-a15f-bba6bd30a00f",
   "metadata": {},
   "outputs": [
    {
     "data": {
      "text/plain": [
       "np.True_"
      ]
     },
     "execution_count": 38,
     "metadata": {},
     "output_type": "execute_result"
    }
   ],
   "source": [
    "np.all(xx==x1)"
   ]
  },
  {
   "cell_type": "code",
   "execution_count": 39,
   "id": "c70e1733-8be6-4c09-af5e-f68dda86dc6f",
   "metadata": {},
   "outputs": [
    {
     "data": {
      "image/png": "[encoded data removed]",
      "text/plain": [
       "<Figure size 640x480 with 1 Axes>"
      ]
     },
     "metadata": {},
     "output_type": "display_data"
    }
   ],
   "source": [
    "plt.plot(tt,xx) # Unpacking list\n",
    "plt.show()"
   ]
  },
  {
   "cell_type": "markdown",
   "id": "a1176320-47a0-419e-943e-5813a14254c7",
   "metadata": {},
   "source": [
    "# Markdown cells and LaTeX equations\n",
    "\n",
    "See [documentation](https://jupyter-notebook.readthedocs.io/en/stable/examples/Notebook/Working%20With%20Markdown%20Cells.html) for more details."
   ]
  },
  {
   "cell_type": "markdown",
   "id": "ff51cc37-54cf-4731-9966-d53c7a070e32",
   "metadata": {},
   "source": [
    "## Inline equation and math symbols\n",
    "\n",
    "Consider a function $f$ of variable $x$:\n",
    "$$ f(x) = ax^2+bx+c $$\n",
    "The solution for $f(x)=0$ is\n",
    "$$ x = \\frac{-b\\pm\\sqrt{b^2-4ac}}{2a}. $$\n",
    "\n",
    "Mathematics in Markdown cells are rendered by [Mathjax](https://www.mathjax.org/). You can use [LaTeX](https://docs.mathjax.org/en/latest/input/tex/index.html) syntax to write your equations."
   ]
  },
  {
   "cell_type": "markdown",
   "id": "241415e1-1c79-499d-82d2-9d94175c2ce2",
   "metadata": {},
   "source": [
    "## List\n",
    "  * Item 1\n",
    "  * Item 2\n",
    "    * Item 2.1\n",
    "    * Item 2.2\n",
    "  * Item 3"
   ]
  },
  {
   "cell_type": "markdown",
   "id": "4e706c29-1d92-40d1-9952-5cc49fd2bf33",
   "metadata": {},
   "source": [
    "## Numbered List\n",
    "  1. Item 1\n",
    "  1. Item 2\n",
    "     1. Item 2.A\n",
    "     1. Item 2.B\n",
    "  1. Item 3"
   ]
  },
  {
   "cell_type": "markdown",
   "id": "b67ff728-4978-43f2-8df1-63b48cac0a8a",
   "metadata": {},
   "source": [
    "## Table\n",
    "| This | is   |\n",
    "|------|------|\n",
    "|   a  | table|"
   ]
  },
  {
   "attachments": {
    "neuron-folder.png": {
     "image/png": "[encoded data removed]"
    }
   },
   "cell_type": "markdown",
   "id": "e514b214-f0ee-46d1-bf34-205d1fd78667",
   "metadata": {},
   "source": [
    "Including an image by dragging a local file to the cell being edited:\n",
    "![neuron-folder.png](attachment:neuron-folder.png)"
   ]
  },
  {
   "cell_type": "markdown",
   "id": "ee9feade-cee7-428e-9f61-4683d8f926f9",
   "metadata": {},
   "source": [
    "## Embedded code blocks\n",
    "You can include `preformated` text\n",
    "\n",
    "```\n",
    "  #     #######\n",
    " ###    #     #\n",
    "#####   #     #\n",
    "  #     #    ###\n",
    "  #     #   #####\n",
    "  #######     #\n",
    "```\n",
    "\n",
    "Syntax highlighting is available for various programming languages, for example:\n",
    "\n",
    "Python:\n",
    "```python\n",
    "def f(x):\n",
    "    \"\"\"a docstring\"\"\"\n",
    "    return x**2\n",
    "```\n",
    "C++\n",
    "```c++\n",
    "for (int i = 0; i<n; i++) {\n",
    "    cout << \"hello \" << i << endl;\n",
    "    x += 4;\n",
    "}\n",
    "```"
   ]
  },
  {
   "cell_type": "markdown",
   "id": "7ef07811-82d2-41a5-b76c-8471e08fbbc0",
   "metadata": {},
   "source": [
    "<hr>\n",
    "<address style=\"color:#44f;font-style:italic;font-weight:bold;\"><a href=\"https://cc.tir.tw/wk/2025cns\">CNS2025</a></address>"
   ]
  }
 ],
 "metadata": {
  "kernelspec": {
   "display_name": "Python 3 (ipykernel)",
   "language": "python",
   "name": "python3"
  },
  "language_info": {
   "codemirror_mode": {
    "name": "ipython",
    "version": 3
   },
   "file_extension": ".py",
   "mimetype": "text/x-python",
   "name": "python",
   "nbconvert_exporter": "python",
   "pygments_lexer": "ipython3",
   "version": "3.13.5"
  }
 },
 "nbformat": 4,
 "nbformat_minor": 5
}
